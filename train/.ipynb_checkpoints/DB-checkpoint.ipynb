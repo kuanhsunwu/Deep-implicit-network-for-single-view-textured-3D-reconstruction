{
 "cells": [
  {
   "cell_type": "code",
   "execution_count": 10,
   "metadata": {},
   "outputs": [
    {
     "name": "stdout",
     "output_type": "stream",
     "text": [
      "Traceback (most recent call last):\r\n",
      "  File \"data_sdf_h5_queue.py\", line 399, in <module>\r\n",
      "    'sdf_dir': raw_dirs[\"sdf_dir\"]})\r\n",
      "  File \"data_sdf_h5_queue.py\", line 48, in __init__\r\n",
      "    self.cats_limit, self.epoch_amount = self.set_cat_limit(cats_limit)\r\n",
      "  File \"data_sdf_h5_queue.py\", line 61, in set_cat_limit\r\n",
      "    for cat, amount in cats_limit.items():\r\n",
      "AttributeError: 'NoneType' object has no attribute 'items'\r\n"
     ]
    }
   ],
   "source": [
    "!python train_sdf.py "
   ]
  },
  {
   "cell_type": "code",
   "execution_count": null,
   "metadata": {},
   "outputs": [],
   "source": []
  }
 ],
 "metadata": {
  "kernelspec": {
   "display_name": "Python 3",
   "language": "python",
   "name": "python3"
  },
  "language_info": {
   "codemirror_mode": {
    "name": "ipython",
    "version": 3
   },
   "file_extension": ".py",
   "mimetype": "text/x-python",
   "name": "python",
   "nbconvert_exporter": "python",
   "pygments_lexer": "ipython3",
   "version": "3.6.9"
  }
 },
 "nbformat": 4,
 "nbformat_minor": 2
}
